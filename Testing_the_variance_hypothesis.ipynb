{
  "nbformat": 4,
  "nbformat_minor": 0,
  "metadata": {
    "colab": {
      "provenance": [],
      "authorship_tag": "ABX9TyPkLctBmfKm6KEdFxM++UKK",
      "include_colab_link": true
    },
    "kernelspec": {
      "name": "python3",
      "display_name": "Python 3"
    },
    "language_info": {
      "name": "python"
    }
  },
  "cells": [
    {
      "cell_type": "markdown",
      "metadata": {
        "id": "view-in-github",
        "colab_type": "text"
      },
      "source": [
        "<a href=\"https://colab.research.google.com/github/Sonja3333333333333/Statistics-/blob/main/Testing_the_variance_hypothesis.ipynb\" target=\"_parent\"><img src=\"https://colab.research.google.com/assets/colab-badge.svg\" alt=\"Open In Colab\"/></a>"
      ]
    },
    {
      "cell_type": "code",
      "execution_count": null,
      "metadata": {
        "id": "9auHMqgPuCaw"
      },
      "outputs": [],
      "source": [
        "import numpy as np\n",
        "import scipy.stats as stats\n"
      ]
    },
    {
      "cell_type": "code",
      "source": [
        "xi = np.array([98.2, 100.2, 98.1, 96.2, 99.8, 101.2, 99.2, 101.2, 102.6, 103.8, 101.2, 99.4, 106.1, 102.6, 100.6, 98.8, 98.2, 101.1, 100.6, 99.8])\n",
        "ni = np.array([1,1,5,3,2,2])"
      ],
      "metadata": {
        "id": "o_DpIsfeuI7k"
      },
      "execution_count": null,
      "outputs": []
    },
    {
      "cell_type": "code",
      "source": [
        "#n = np.sum(ni)\n",
        "n = len(xi)\n",
        "n"
      ],
      "metadata": {
        "colab": {
          "base_uri": "https://localhost:8080/"
        },
        "id": "jzpnvN7bF2TJ",
        "outputId": "f8ae116d-789b-4b4b-9159-9a070d7b4ec0"
      },
      "execution_count": null,
      "outputs": [
        {
          "output_type": "execute_result",
          "data": {
            "text/plain": [
              "20"
            ]
          },
          "metadata": {},
          "execution_count": 38
        }
      ]
    },
    {
      "cell_type": "code",
      "source": [
        "#sample = np.repeat(xi, ni)\n",
        "sample = xi"
      ],
      "metadata": {
        "id": "pzThA6WHuPbr"
      },
      "execution_count": null,
      "outputs": []
    },
    {
      "cell_type": "code",
      "source": [
        "mean = np.mean(sample)\n",
        "mean"
      ],
      "metadata": {
        "colab": {
          "base_uri": "https://localhost:8080/"
        },
        "id": "JspHBKyFuyPP",
        "outputId": "3e903dd9-f8dd-4856-c544-bc5aa2e21aad"
      },
      "execution_count": null,
      "outputs": [
        {
          "output_type": "execute_result",
          "data": {
            "text/plain": [
              "np.float64(100.445)"
            ]
          },
          "metadata": {},
          "execution_count": 40
        }
      ]
    },
    {
      "cell_type": "code",
      "source": [
        "variance = np.var(sample, ddof=1)\n",
        "variance"
      ],
      "metadata": {
        "colab": {
          "base_uri": "https://localhost:8080/"
        },
        "id": "GupMTqIJu0a4",
        "outputId": "633356f2-348b-4e2f-8ccc-26470d540bb8"
      },
      "execution_count": null,
      "outputs": [
        {
          "output_type": "execute_result",
          "data": {
            "text/plain": [
              "np.float64(4.976289473684202)"
            ]
          },
          "metadata": {},
          "execution_count": 41
        }
      ]
    },
    {
      "cell_type": "markdown",
      "source": [
        "Для знаходженя критичного значення F для правосторонньої області"
      ],
      "metadata": {
        "id": "vQJvIE5KFVeU"
      }
    },
    {
      "cell_type": "code",
      "source": [
        "# Ступені вільності\n",
        "df1 = 9  # чисельник\n",
        "df2 = 13  # знаменник\n",
        "alpha = 0.05"
      ],
      "metadata": {
        "id": "HANF6_GA-UjA"
      },
      "execution_count": null,
      "outputs": []
    },
    {
      "cell_type": "code",
      "source": [
        "# Критичне значення F для правосторонньої області\n",
        "F_critical = stats.f.ppf(1 - alpha, df1, df2)\n",
        "F_critical"
      ],
      "metadata": {
        "colab": {
          "base_uri": "https://localhost:8080/"
        },
        "id": "95wX-UoA-gWj",
        "outputId": "9a28d5d5-6eb1-4add-c06b-433aed655429"
      },
      "execution_count": null,
      "outputs": [
        {
          "output_type": "execute_result",
          "data": {
            "text/plain": [
              "np.float64(2.7143557890598924)"
            ]
          },
          "metadata": {},
          "execution_count": 5
        }
      ]
    },
    {
      "cell_type": "code",
      "source": [
        "8.3521*19/8.91"
      ],
      "metadata": {
        "colab": {
          "base_uri": "https://localhost:8080/"
        },
        "id": "K-5E1WPLagDs",
        "outputId": "b0528cea-2b9b-4df4-bf30-60736f6eb638"
      },
      "execution_count": null,
      "outputs": [
        {
          "output_type": "execute_result",
          "data": {
            "text/plain": [
              "17.810314253647586"
            ]
          },
          "metadata": {},
          "execution_count": 7
        }
      ]
    }
  ]
}