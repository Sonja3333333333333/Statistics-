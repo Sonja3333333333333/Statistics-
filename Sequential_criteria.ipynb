{
  "nbformat": 4,
  "nbformat_minor": 0,
  "metadata": {
    "colab": {
      "provenance": [],
      "authorship_tag": "ABX9TyOIprlJZJ9Os0yMfmSMBysX",
      "include_colab_link": true
    },
    "kernelspec": {
      "name": "python3",
      "display_name": "Python 3"
    },
    "language_info": {
      "name": "python"
    }
  },
  "cells": [
    {
      "cell_type": "markdown",
      "metadata": {
        "id": "view-in-github",
        "colab_type": "text"
      },
      "source": [
        "<a href=\"https://colab.research.google.com/github/Sonja3333333333333/Statistics-/blob/main/Sequential_criteria.ipynb\" target=\"_parent\"><img src=\"https://colab.research.google.com/assets/colab-badge.svg\" alt=\"Open In Colab\"/></a>"
      ]
    },
    {
      "cell_type": "code",
      "source": [
        "from scipy.stats import binom\n",
        "import math\n"
      ],
      "metadata": {
        "id": "Vo8i6aG3nl2U"
      },
      "execution_count": null,
      "outputs": []
    },
    {
      "cell_type": "markdown",
      "source": [
        "Область прийняття критерію знаків (випадок малих вибірок)"
      ],
      "metadata": {
        "id": "ETLhMm10nnfi"
      }
    },
    {
      "cell_type": "code",
      "execution_count": null,
      "metadata": {
        "colab": {
          "base_uri": "https://localhost:8080/"
        },
        "id": "wI-QxT3rfMRQ",
        "outputId": "12c1b70a-1c01-470a-acb8-1727567e1f0f"
      },
      "outputs": [
        {
          "output_type": "stream",
          "name": "stdout",
          "text": [
            "Область прийняття H0: [2, 7]\n"
          ]
        }
      ],
      "source": [
        "alpha = 0.05        # рівень значущості\n",
        "n = 9               # кількість ненульових різниць\n",
        "p = 0.5             # імовірність знака + при H0\n",
        "\n",
        "# межі критичної області\n",
        "m = binom.ppf(alpha / 2, n, p)\n",
        "M = binom.isf(alpha / 2, n, p)\n",
        "\n",
        "print(f\"Область прийняття H0: [{int(m)}, {int(M)}]\")"
      ]
    },
    {
      "cell_type": "markdown",
      "source": [
        "Область прийняття критерію знаків (випадок великих вибірок)"
      ],
      "metadata": {
        "id": "v2HVKsuDn3Dh"
      }
    },
    {
      "cell_type": "code",
      "source": [
        "alpha = 0.05        # рівень значущості\n",
        "n = 9               # кількість ненульових різниць\n",
        "a = 8\n",
        "sigma = 2\n",
        "\n",
        "# межі критичної області\n",
        "m = a - 1.96*sigma\n",
        "M = a + 1.96*sigma\n",
        "\n",
        "print(f\"Область прийняття H0: [{int(m)}, {math.ceil(M)}]\")"
      ],
      "metadata": {
        "colab": {
          "base_uri": "https://localhost:8080/"
        },
        "id": "46YcDSV5n8NQ",
        "outputId": "12a86658-09cd-4b1b-f0be-de9e3ebfc5e4"
      },
      "execution_count": null,
      "outputs": [
        {
          "output_type": "stream",
          "name": "stdout",
          "text": [
            "Область прийняття H0: [4, 12]\n"
          ]
        }
      ]
    },
    {
      "cell_type": "markdown",
      "source": [
        "Для критнрію інверсій"
      ],
      "metadata": {
        "id": "BQUnTcmit2N9"
      }
    },
    {
      "cell_type": "code",
      "source": [
        "import pandas as pd"
      ],
      "metadata": {
        "id": "LENebfvJyIm0"
      },
      "execution_count": null,
      "outputs": []
    },
    {
      "cell_type": "code",
      "source": [
        "x = [9, 12, 15, 16, 17, 18, 24, 27, 28, 29, 31]\n",
        "y = [5, 6, 8, 10, 14, 19, 20, 21, 22, 23, 25, 26, 26, 30, 32]\n",
        "\n",
        "combined = [(val, 'x') for val in x] + [(val, 'y') for val in y]\n",
        "\n",
        "combined.sort(key=lambda t: t[0])\n",
        "\n",
        "df = pd.DataFrame(combined, columns=['Value', 'Group'])\n",
        "\n",
        "df['Index'] = range(1, len(df) + 1)\n",
        "df['Rank'] = df['Value'].rank(method='average')  # середнє при повтореннях\n",
        "\n",
        "print(df.to_string(index=False))\n"
      ],
      "metadata": {
        "colab": {
          "base_uri": "https://localhost:8080/"
        },
        "id": "MhYWXz7Ct570",
        "outputId": "4e038967-6c4e-401b-cae9-5e6b1f831de7"
      },
      "execution_count": null,
      "outputs": [
        {
          "output_type": "stream",
          "name": "stdout",
          "text": [
            " Value Group  Index  Rank\n",
            "     5     y      1   1.0\n",
            "     6     y      2   2.0\n",
            "     8     y      3   3.0\n",
            "     9     x      4   4.0\n",
            "    10     y      5   5.0\n",
            "    12     x      6   6.0\n",
            "    14     y      7   7.0\n",
            "    15     x      8   8.0\n",
            "    16     x      9   9.0\n",
            "    17     x     10  10.0\n",
            "    18     x     11  11.0\n",
            "    19     y     12  12.0\n",
            "    20     y     13  13.0\n",
            "    21     y     14  14.0\n",
            "    22     y     15  15.0\n",
            "    23     y     16  16.0\n",
            "    24     x     17  17.0\n",
            "    25     y     18  18.0\n",
            "    26     y     19  19.5\n",
            "    26     y     20  19.5\n",
            "    27     x     21  21.0\n",
            "    28     x     22  22.0\n",
            "    29     x     23  23.0\n",
            "    30     y     24  24.0\n",
            "    31     x     25  25.0\n",
            "    32     y     26  26.0\n"
          ]
        }
      ]
    },
    {
      "cell_type": "code",
      "source": [
        "n = len(x)\n",
        "m = len(y)\n",
        "\n",
        "a = (m*n)/2\n",
        "sigma = math.sqrt((m*n)*(m+n+1)/12)\n",
        "\n",
        "print(f\"n = {n}, m = {m}, a = {a}, sigma = {sigma}\")"
      ],
      "metadata": {
        "colab": {
          "base_uri": "https://localhost:8080/"
        },
        "id": "8yzWrnr5wZs_",
        "outputId": "9ffb9de7-9236-48bd-8ef9-88686c192bad"
      },
      "execution_count": null,
      "outputs": [
        {
          "output_type": "stream",
          "name": "stdout",
          "text": [
            "n = 11, m = 15, a = 82.5, sigma = 19.267848867997692\n"
          ]
        }
      ]
    },
    {
      "cell_type": "code",
      "source": [
        "print(f\"({a  - 1.96*sigma};{a + 1.96*sigma})\")"
      ],
      "metadata": {
        "colab": {
          "base_uri": "https://localhost:8080/"
        },
        "id": "9zRAwq-gxGTx",
        "outputId": "091558ef-1ca9-4296-d497-9370c75de3ad"
      },
      "execution_count": null,
      "outputs": [
        {
          "output_type": "stream",
          "name": "stdout",
          "text": [
            "(8.817905282866926;39.182094717133076)\n"
          ]
        }
      ]
    }
  ]
}